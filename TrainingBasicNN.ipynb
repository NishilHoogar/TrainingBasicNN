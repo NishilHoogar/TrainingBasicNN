{
  "nbformat": 4,
  "nbformat_minor": 0,
  "metadata": {
    "colab": {
      "provenance": [],
      "authorship_tag": "ABX9TyNsVgtwnQpLByRV7QWNMjoo"
    },
    "kernelspec": {
      "name": "python3",
      "display_name": "Python 3"
    },
    "language_info": {
      "name": "python"
    }
  },
  "cells": [
    {
      "cell_type": "code",
      "execution_count": null,
      "metadata": {
        "colab": {
          "base_uri": "https://localhost:8080/"
        },
        "id": "VKYDiaCEzj0G",
        "outputId": "7338c816-0d24-4e42-c7e9-56b0185fa9be"
      },
      "outputs": [
        {
          "output_type": "stream",
          "name": "stdout",
          "text": [
            "         x0        x1        x2  targets\n",
            "0  0.509733  0.503297  0.438457        1\n",
            "1  0.865619  0.384890  0.389905        0\n",
            "2  0.132446  0.077865  0.264340        1\n",
            "3  0.902757  0.008194  0.527265        0\n"
          ]
        }
      ],
      "source": [
        "import numpy as np\n",
        "import pandas as pd\n",
        "\n",
        "rg = np.random.default_rng()\n",
        "\n",
        "def generate_data(n_features, n_values):\n",
        "    features = rg.random((n_features, n_values))\n",
        "    weights = rg.random((1, n_values))[0]\n",
        "    targets = np.random.choice([0,1], n_features)\n",
        "    data = pd.DataFrame(features, columns=[\"x0\", \"x1\", \"x2\"])\n",
        "    data[\"targets\"] = targets\n",
        "    return data, weights\n",
        "\n",
        "data, weights = generate_data(4,3)\n",
        "print(data)"
      ]
    },
    {
      "cell_type": "code",
      "source": [
        "bias = 0.5\n",
        "l_rate = 0.1\n",
        "epochs = 50\n",
        "epoch_loss = []\n",
        "\n",
        "def get_weighted_sum(feature, weights, bias):\n",
        "    return np.dot(feature, weights) + bias\n",
        "\n",
        "def sigmoid(w_sum):\n",
        "    return 1/(1+np.exp(-w_sum))\n",
        "\n",
        "def cross_entropy(target, prediction):\n",
        "    return -(target*np.log10(prediction) + (1-target)*np.log10(1-prediction))\n",
        "\n",
        "def update_weights(weights, l_rate, target, prediction, feature):\n",
        "    new_weights = []\n",
        "    for x, w in zip(feature, weights):\n",
        "        new_w = w + l_rate*(target-prediction)*x\n",
        "        new_weights.append(new_w)\n",
        "    return new_weights\n",
        "\n",
        "def update_bias(bias, l_rate, target, prediction):\n",
        "    return bias + l_rate*(target-prediction)\n",
        "\n",
        "def train_model(data, weights, bias, l_rate, epochs):\n",
        "    for e in range(epochs):\n",
        "        individual_loss = []\n",
        "        for i in range(len(data)):\n",
        "            feature = data.loc[i][:-1]\n",
        "            target = data.loc[i][-1]\n",
        "            w_sum = get_weighted_sum(feature, weights, bias)\n",
        "            prediction = sigmoid(w_sum)\n",
        "            loss = cross_entropy(target, prediction)\n",
        "            individual_loss.append(loss)\n",
        "            # gradient descent\n",
        "            weights = update_weights(weights, l_rate, target, prediction, feature)\n",
        "            bias = update_bias(bias, l_rate, target, prediction)\n",
        "        average_loss = sum(individual_loss)/len(individual_loss)\n",
        "        epoch_loss.append(average_loss)\n",
        "        print(\"**************************\")\n",
        "        print(\"epoch\", e)\n",
        "        print(average_loss)\n",
        "train_model(data, weights, bias, l_rate, epochs)"
      ],
      "metadata": {
        "colab": {
          "base_uri": "https://localhost:8080/"
        },
        "id": "35C-JJiJ1C0-",
        "outputId": "8469e098-dbe9-4c9c-cf4b-5f6009e610e9"
      },
      "execution_count": null,
      "outputs": [
        {
          "output_type": "stream",
          "name": "stdout",
          "text": [
            "**************************\n",
            "epoch 0\n",
            "0.41180051422398156\n",
            "**************************\n",
            "epoch 1\n",
            "0.3839416962564211\n",
            "**************************\n",
            "epoch 2\n",
            "0.36178405942504843\n",
            "**************************\n",
            "epoch 3\n",
            "0.34437784114445025\n",
            "**************************\n",
            "epoch 4\n",
            "0.33077294943366364\n",
            "**************************\n",
            "epoch 5\n",
            "0.3201121900860858\n",
            "**************************\n",
            "epoch 6\n",
            "0.31167653023726705\n",
            "**************************\n",
            "epoch 7\n",
            "0.30489335506106496\n",
            "**************************\n",
            "epoch 8\n",
            "0.299323137533108\n",
            "**************************\n",
            "epoch 9\n",
            "0.294637106820773\n",
            "**************************\n",
            "epoch 10\n",
            "0.29059369975062643\n",
            "**************************\n",
            "epoch 11\n",
            "0.28701758848315884\n",
            "**************************\n",
            "epoch 12\n",
            "0.2837825679337642\n",
            "**************************\n",
            "epoch 13\n",
            "0.28079829300901\n",
            "**************************\n",
            "epoch 14\n",
            "0.27800032343810804\n",
            "**************************\n",
            "epoch 15\n",
            "0.2753428025060012\n",
            "**************************\n",
            "epoch 16\n",
            "0.2727931433257174\n",
            "**************************\n",
            "epoch 17\n",
            "0.2703282048404769\n",
            "**************************\n",
            "epoch 18\n",
            "0.26793155491125953\n",
            "**************************\n",
            "epoch 19\n",
            "0.26559151830348604\n",
            "**************************\n",
            "epoch 20\n",
            "0.26329978761873357\n",
            "**************************\n",
            "epoch 21\n",
            "0.26105043631419794\n",
            "**************************\n",
            "epoch 22\n",
            "0.2588392181960013\n",
            "**************************\n",
            "epoch 23\n",
            "0.25666307071156297\n",
            "**************************\n",
            "epoch 24\n",
            "0.254519763098247\n",
            "**************************\n",
            "epoch 25\n",
            "0.2524076474357166\n",
            "**************************\n",
            "epoch 26\n",
            "0.2503254827677225\n",
            "**************************\n",
            "epoch 27\n",
            "0.24827231108469017\n",
            "**************************\n",
            "epoch 28\n",
            "0.246247370092001\n",
            "**************************\n",
            "epoch 29\n",
            "0.2442500320488627\n",
            "**************************\n",
            "epoch 30\n",
            "0.24227976106210253\n",
            "**************************\n",
            "epoch 31\n",
            "0.2403360834230675\n",
            "**************************\n",
            "epoch 32\n",
            "0.2384185671433176\n",
            "**************************\n",
            "epoch 33\n",
            "0.23652680795997713\n",
            "**************************\n",
            "epoch 34\n",
            "0.23466041987510344\n",
            "**************************\n",
            "epoch 35\n",
            "0.2328190288580254\n",
            "**************************\n",
            "epoch 36\n",
            "0.23100226874123916\n",
            "**************************\n",
            "epoch 37\n",
            "0.22920977862602257\n",
            "**************************\n",
            "epoch 38\n",
            "0.22744120131683218\n",
            "**************************\n",
            "epoch 39\n",
            "0.22569618244754275\n",
            "**************************\n",
            "epoch 40\n",
            "0.2239743700646336\n",
            "**************************\n",
            "epoch 41\n",
            "0.22227541450459248\n",
            "**************************\n",
            "epoch 42\n",
            "0.22059896845371732\n",
            "**************************\n",
            "epoch 43\n",
            "0.2189446871142887\n",
            "**************************\n",
            "epoch 44\n",
            "0.21731222842615158\n",
            "**************************\n",
            "epoch 45\n",
            "0.2157012533101987\n",
            "**************************\n",
            "epoch 46\n",
            "0.21411142591232868\n",
            "**************************\n",
            "epoch 47\n",
            "0.2125424138347332\n",
            "**************************\n",
            "epoch 48\n",
            "0.210993888346987\n",
            "**************************\n",
            "epoch 49\n",
            "0.20946552457316592\n"
          ]
        }
      ]
    },
    {
      "cell_type": "code",
      "source": [
        "df = pd.DataFrame(epoch_loss)\n",
        "df_plot = df.plot(kind=\"line\", grid=True)\n",
        "df_plot"
      ],
      "metadata": {
        "id": "8Lxv1ZFD1n3d",
        "outputId": "da1e6972-aede-4b68-edaa-31259102b22f",
        "colab": {
          "base_uri": "https://localhost:8080/",
          "height": 447
        }
      },
      "execution_count": null,
      "outputs": [
        {
          "output_type": "execute_result",
          "data": {
            "text/plain": [
              "<Axes: >"
            ]
          },
          "metadata": {},
          "execution_count": 4
        },
        {
          "output_type": "display_data",
          "data": {
            "text/plain": [
              "<Figure size 640x480 with 1 Axes>"
            ],
            "image/png": "[encoded data removed]"
          },
          "metadata": {}
        }
      ]
    }
  ]
}